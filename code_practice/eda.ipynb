{
 "cells": [
  {
   "cell_type": "code",
   "execution_count": 19,
   "metadata": {},
   "outputs": [],
   "source": [
    "import numpy as np\n",
    "import pandas as pd\n",
    "import matplotlib.pyplot as plt\n",
    "#for reading netCDF4 files\n",
    "import netCDF4 as nc\n",
    "import pprint"
   ]
  },
  {
   "cell_type": "code",
   "execution_count": 20,
   "metadata": {},
   "outputs": [],
   "source": [
    "pp = pprint.PrettyPrinter(indent=4)"
   ]
  },
  {
   "cell_type": "code",
   "execution_count": 11,
   "metadata": {},
   "outputs": [],
   "source": [
    "#file path\n",
    "filename = \"../data/hysets/HYSETS_2020_QC_stations.nc\"\n",
    "#loading file into a nc dataset\n",
    "ds = nc.Dataset(filename)"
   ]
  },
  {
   "cell_type": "code",
   "execution_count": 31,
   "metadata": {},
   "outputs": [
    {
     "data": {
      "text/plain": [
       "'2020-05-26'"
      ]
     },
     "execution_count": 31,
     "metadata": {},
     "output_type": "execute_result"
    }
   ],
   "source": []
  },
  {
   "cell_type": "code",
   "execution_count": 24,
   "metadata": {},
   "outputs": [
    {
     "name": "stdout",
     "output_type": "stream",
     "text": [
      "<class 'netCDF4._netCDF4.Dataset'>\n",
      "root group (NETCDF4_CLASSIC data model, file format HDF5):\n",
      "    title: Hydrometeorological Sandbox of the École de technologie supérieure (HYSETS) for 14425 catchments in North America\n",
      "    summary: Hydrometeorological Sandbox of the École de technologie supérieure (HYSETS), including precipitation, temperature, discharge and catchment area of 14425 watersheds in North America. This file's meteorological data was collected and processed from Quality-controlled gauges. Provided by the HC3 Laboratory at École de technologie supérieure, Montréal, Canada.\n",
      "    institution: Hydrology, Climate and Climate Change Laboratory (HC3) at École de technologie supérieure (ETS)\n",
      "    institute_id: HC3-ETS\n",
      "    contact: Richard Arsenault: richard.arsenault@etsmtl.ca\n",
      "    date_created: 2020-05-26\n",
      "    source: Hydrometric data from USGS National Water Information Service, ECCC Water Survey Canada and CONAGUA in Mexico. Meteorological data from ECCC stations in Canada and GHCND in USA and Mexico. Catchment areas from ECCC HYDAT and USGS.\n",
      "    featureType: timeSeries\n",
      "    cdm_data_type: station\n",
      "    license: ODC-BY\n",
      "    keywords: HYSETS, GHCND, GSIM, hydrology, North America, streamflow, hydrometeorology, PAVICS, PAVICS-Hydro, modelling\n",
      "    conventions: CF-1.6, ACDD-1.3\n",
      "    activity: HYSETS\n",
      "    dimensions(sizes): time(25202), watershed(14425)\n",
      "    variables(dimensions): float64 time(time), float64 watershedID(watershed), float64 drainage_area(watershed), float64 drainage_area_GSIM(watershed), float64 flag_GSIM_boundaries(watershed), float64 flag_artificial_boundaries(watershed), float64 centroid_lat(watershed), float64 centroid_lon(watershed), float64 elevation(watershed), float64 slope(watershed), float32 discharge(watershed, time), float32 pr(watershed, time), float32 tasmax(watershed, time), float32 tasmin(watershed, time)\n",
      "    groups: \n"
     ]
    }
   ],
   "source": [
    "print(ds)"
   ]
  },
  {
   "cell_type": "code",
   "execution_count": 97,
   "metadata": {},
   "outputs": [],
   "source": [
    "vdict = {\"variables(dimensions)\": \"float64 time(time), float64 watershedID(watershed), float64 drainage_area(watershed), float64 drainage_area_GSIM(watershed), float64 flag_GSIM_boundaries(watershed), float64 flag_artificial_boundaries(watershed), float64 centroid_lat(watershed), float64 centroid_lon(watershed), float64 elevation(watershed), float64 slope(watershed), float32 discharge(watershed, time), float32 pr(watershed, time), float32 tasmax(watershed, time), float32 tasmin(watershed, time)\"}"
   ]
  },
  {
   "cell_type": "code",
   "execution_count": 103,
   "metadata": {},
   "outputs": [],
   "source": [
    "vdict[\"variables(dimensions)\"] = [x.strip() for x in vdict[\"variables(dimensions)\"].split(\",\")]"
   ]
  },
  {
   "cell_type": "code",
   "execution_count": 107,
   "metadata": {},
   "outputs": [],
   "source": [
    "# !pip install xarray"
   ]
  },
  {
   "cell_type": "code",
   "execution_count": 109,
   "metadata": {},
   "outputs": [
    {
     "data": {
      "text/plain": [
       "['float64 time(time)',\n",
       " 'float64 watershedID(watershed)',\n",
       " 'float64 drainage_area(watershed)',\n",
       " 'float64 drainage_area_GSIM(watershed)',\n",
       " 'float64 flag_GSIM_boundaries(watershed)',\n",
       " 'float64 flag_artificial_boundaries(watershed)',\n",
       " 'float64 centroid_lat(watershed)',\n",
       " 'float64 centroid_lon(watershed)',\n",
       " 'float64 elevation(watershed)',\n",
       " 'float64 slope(watershed)',\n",
       " 'float32 discharge(watershed',\n",
       " 'time)',\n",
       " 'float32 pr(watershed',\n",
       " 'time)',\n",
       " 'float32 tasmax(watershed',\n",
       " 'time)',\n",
       " 'float32 tasmin(watershed',\n",
       " 'time)']"
      ]
     },
     "execution_count": 109,
     "metadata": {},
     "output_type": "execute_result"
    }
   ],
   "source": [
    "vdict['variables(dimensions)']"
   ]
  },
  {
   "cell_type": "code",
   "execution_count": 25,
   "metadata": {},
   "outputs": [
    {
     "name": "stdout",
     "output_type": "stream",
     "text": [
      "{   'activity': 'HYSETS',\n",
      "    'cdm_data_type': 'station',\n",
      "    'contact': 'Richard Arsenault: richard.arsenault@etsmtl.ca',\n",
      "    'conventions': 'CF-1.6, ACDD-1.3',\n",
      "    'date_created': '2020-05-26',\n",
      "    'featureType': 'timeSeries',\n",
      "    'institute_id': 'HC3-ETS',\n",
      "    'institution': 'Hydrology, Climate and Climate Change Laboratory (HC3) at '\n",
      "                   'École de technologie supérieure (ETS)',\n",
      "    'keywords': 'HYSETS, GHCND, GSIM, hydrology, North America, streamflow, '\n",
      "                'hydrometeorology, PAVICS, PAVICS-Hydro, modelling',\n",
      "    'license': 'ODC-BY',\n",
      "    'source': 'Hydrometric data from USGS National Water Information Service, '\n",
      "              'ECCC Water Survey Canada and CONAGUA in Mexico. Meteorological '\n",
      "              'data from ECCC stations in Canada and GHCND in USA and Mexico. '\n",
      "              'Catchment areas from ECCC HYDAT and USGS.',\n",
      "    'summary': 'Hydrometeorological Sandbox of the École de technologie '\n",
      "               'supérieure (HYSETS), including precipitation, temperature, '\n",
      "               'discharge and catchment area of 14425 watersheds in North '\n",
      "               \"America. This file's meteorological data was collected and \"\n",
      "               'processed from Quality-controlled gauges. Provided by the HC3 '\n",
      "               'Laboratory at École de technologie supérieure, Montréal, '\n",
      "               'Canada.',\n",
      "    'title': 'Hydrometeorological Sandbox of the École de technologie '\n",
      "             'supérieure (HYSETS) for 14425 catchments in North America'}\n"
     ]
    }
   ],
   "source": [
    "pp.pprint(ds.__dict__)"
   ]
  },
  {
   "cell_type": "code",
   "execution_count": 77,
   "metadata": {},
   "outputs": [
    {
     "name": "stdout",
     "output_type": "stream",
     "text": [
      "['time', 'watershedID', 'drainage_area', 'drainage_area_GSIM', 'flag_GSIM_boundaries', 'flag_artificial_boundaries', 'centroid_lat', 'centroid_lon', 'elevation', 'slope', 'discharge', 'pr', 'tasmax', 'tasmin']\n"
     ]
    }
   ],
   "source": [
    "print(list(ds.variables.keys()))"
   ]
  },
  {
   "cell_type": "code",
   "execution_count": 84,
   "metadata": {},
   "outputs": [],
   "source": [
    "def variable_details(ds):\n",
    "    print(\"Select a number to see the features\")\n",
    "    for k1, k2 in list(enumerate(ds.variables.keys(),1)):\n",
    "        print(f\"{k1}. {k2}\")\n",
    "    k_input = int(input(\"Enter any number from above. \"))\n",
    "    print()\n",
    "    for k1, k2 in list(enumerate(ds.variables.keys(),1)):\n",
    "        if k1 == k_input:\n",
    "            print(ds.variables[k2])\n",
    "    "
   ]
  },
  {
   "cell_type": "code",
   "execution_count": 89,
   "metadata": {},
   "outputs": [
    {
     "name": "stdout",
     "output_type": "stream",
     "text": [
      "Select a number to see the features\n",
      "1. time\n",
      "2. watershedID\n",
      "3. drainage_area\n",
      "4. drainage_area_GSIM\n",
      "5. flag_GSIM_boundaries\n",
      "6. flag_artificial_boundaries\n",
      "7. centroid_lat\n",
      "8. centroid_lon\n",
      "9. elevation\n",
      "10. slope\n",
      "11. discharge\n",
      "12. pr\n",
      "13. tasmax\n",
      "14. tasmin\n"
     ]
    },
    {
     "name": "stdin",
     "output_type": "stream",
     "text": [
      "Enter any number from above.  5\n"
     ]
    },
    {
     "name": "stdout",
     "output_type": "stream",
     "text": [
      "\n",
      "<class 'netCDF4._netCDF4.Variable'>\n",
      "float64 flag_GSIM_boundaries(watershed)\n",
      "    description: Flag to indicate that the boundaries are those from GSIM and the watershed area of the polygon is the one in \"drainage_area_GSIM\". The \"drainage_area\" value is the official area at the hydrometric gauging station.\n",
      "    long_name: flag_contours_from_GSIM\n",
      "    standard_name: flag_contours_from_GSIM\n",
      "unlimited dimensions: \n",
      "current shape = (14425,)\n",
      "filling on, default _FillValue of 9.969209968386869e+36 used\n"
     ]
    }
   ],
   "source": [
    "variable_details(ds)"
   ]
  },
  {
   "cell_type": "code",
   "execution_count": 96,
   "metadata": {},
   "outputs": [
    {
     "data": {
      "text/plain": [
       "'days since 1950-01-01 00:00:00'"
      ]
     },
     "execution_count": 96,
     "metadata": {},
     "output_type": "execute_result"
    }
   ],
   "source": [
    "ds.variables['time']"
   ]
  },
  {
   "cell_type": "code",
   "execution_count": 91,
   "metadata": {},
   "outputs": [
    {
     "data": {
      "text/plain": [
       "<class 'netCDF4._netCDF4.Variable'>\n",
       "float64 centroid_lat(watershed)\n",
       "    description: Latitude (degrees North) coordinates of the centroid of the watershed\n",
       "    long_name: centroid_latitude\n",
       "    standard_name: centroid_latitude\n",
       "    units: degrees_North (South is negative)\n",
       "unlimited dimensions: \n",
       "current shape = (14425,)\n",
       "filling on, default _FillValue of 9.969209968386869e+36 used"
      ]
     },
     "execution_count": 91,
     "metadata": {},
     "output_type": "execute_result"
    }
   ],
   "source": [
    "ds.variables['centroid_lat']"
   ]
  },
  {
   "cell_type": "code",
   "execution_count": 92,
   "metadata": {},
   "outputs": [
    {
     "data": {
      "text/plain": [
       "<class 'netCDF4._netCDF4.Variable'>\n",
       "float64 centroid_lon(watershed)\n",
       "    description: Longitude (degrees Eest) coordinates of the centroid of the watershed\n",
       "    long_name: centroid_longitude\n",
       "    standard_name: centroid_longitude\n",
       "    units: degrees_East (West is negative)\n",
       "unlimited dimensions: \n",
       "current shape = (14425,)\n",
       "filling on, default _FillValue of 9.969209968386869e+36 used"
      ]
     },
     "execution_count": 92,
     "metadata": {},
     "output_type": "execute_result"
    }
   ],
   "source": [
    "ds.variables['centroid_lon']"
   ]
  },
  {
   "cell_type": "code",
   "execution_count": null,
   "metadata": {},
   "outputs": [],
   "source": [
    "ds.variables['time']"
   ]
  },
  {
   "cell_type": "markdown",
   "metadata": {},
   "source": [
    "## Main Info from Dataset\n",
    "- Hydrometeorologicl Sandbox data for `14425` catchments in North America\n",
    "- Source:\n",
    "    -  **Hydrometric data** from _USGS National Water Information Service_, _ECCC Water Survey_ Canada and _CONAGUA_ in Mexico. \n",
    "    - **Meteorological data** from _ECCC stations_ in Canada and _GHCND_ in USA and Mexico. \n",
    "    - **Catchment areas** from _ECCC HYDAT_ and _USGS_\n",
    "- Dimenstions:\n",
    "    - `time` - **25202**\n",
    "    - `watershed` - **14425**"
   ]
  },
  {
   "cell_type": "code",
   "execution_count": null,
   "metadata": {},
   "outputs": [],
   "source": []
  }
 ],
 "metadata": {
  "kernelspec": {
   "display_name": "Python 3 (ipykernel)",
   "language": "python",
   "name": "python3"
  },
  "language_info": {
   "codemirror_mode": {
    "name": "ipython",
    "version": 3
   },
   "file_extension": ".py",
   "mimetype": "text/x-python",
   "name": "python",
   "nbconvert_exporter": "python",
   "pygments_lexer": "ipython3",
   "version": "3.9.12"
  },
  "vscode": {
   "interpreter": {
    "hash": "931f24cbdb93aa764fc7803dd967c06ef74d5c5cb0ae98b776043e132d178cbe"
   }
  }
 },
 "nbformat": 4,
 "nbformat_minor": 4
}
